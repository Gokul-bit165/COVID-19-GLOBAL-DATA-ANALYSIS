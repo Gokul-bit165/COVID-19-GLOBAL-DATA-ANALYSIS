{
 "cells": [
  {
   "cell_type": "markdown",
   "id": "e8039347",
   "metadata": {},
   "source": [
    "# COVID-19-GLOBAL-DATA-ANALYSIS\n"
   ]
  },
  {
   "cell_type": "markdown",
   "id": "57f455ef",
   "metadata": {},
   "source": [
    "Part 1 – Basic Data Understanding (Pandas)"
   ]
  },
  {
   "cell_type": "markdown",
   "id": "0f0d80d7",
   "metadata": {},
   "source": []
  },
  {
   "cell_type": "code",
   "execution_count": 52,
   "id": "e65035e8",
   "metadata": {},
   "outputs": [],
   "source": [
    "import numpy as np\n",
    "import pandas as pd\n",
    "import matplotlib.pyplot as plt\n",
    "import seaborn as sns"
   ]
  },
  {
   "cell_type": "code",
   "execution_count": 53,
   "id": "8594c43a",
   "metadata": {},
   "outputs": [
    {
     "data": {
      "text/html": [
       "<div>\n",
       "<style scoped>\n",
       "    .dataframe tbody tr th:only-of-type {\n",
       "        vertical-align: middle;\n",
       "    }\n",
       "\n",
       "    .dataframe tbody tr th {\n",
       "        vertical-align: top;\n",
       "    }\n",
       "\n",
       "    .dataframe thead th {\n",
       "        text-align: right;\n",
       "    }\n",
       "</style>\n",
       "<table border=\"1\" class=\"dataframe\">\n",
       "  <thead>\n",
       "    <tr style=\"text-align: right;\">\n",
       "      <th></th>\n",
       "      <th>Country/Region</th>\n",
       "      <th>Continent</th>\n",
       "      <th>Population</th>\n",
       "      <th>TotalCases</th>\n",
       "      <th>NewCases</th>\n",
       "      <th>TotalDeaths</th>\n",
       "      <th>NewDeaths</th>\n",
       "      <th>TotalRecovered</th>\n",
       "      <th>NewRecovered</th>\n",
       "      <th>ActiveCases</th>\n",
       "      <th>Serious,Critical</th>\n",
       "      <th>Tot Cases/1M pop</th>\n",
       "      <th>Deaths/1M pop</th>\n",
       "      <th>TotalTests</th>\n",
       "      <th>Tests/1M pop</th>\n",
       "      <th>WHO Region</th>\n",
       "    </tr>\n",
       "  </thead>\n",
       "  <tbody>\n",
       "    <tr>\n",
       "      <th>0</th>\n",
       "      <td>USA</td>\n",
       "      <td>North America</td>\n",
       "      <td>3.311981e+08</td>\n",
       "      <td>5032179</td>\n",
       "      <td>NaN</td>\n",
       "      <td>162804.0</td>\n",
       "      <td>NaN</td>\n",
       "      <td>2576668.0</td>\n",
       "      <td>NaN</td>\n",
       "      <td>2292707.0</td>\n",
       "      <td>18296.0</td>\n",
       "      <td>15194.0</td>\n",
       "      <td>492.0</td>\n",
       "      <td>63139605.0</td>\n",
       "      <td>190640.0</td>\n",
       "      <td>Americas</td>\n",
       "    </tr>\n",
       "    <tr>\n",
       "      <th>1</th>\n",
       "      <td>Brazil</td>\n",
       "      <td>South America</td>\n",
       "      <td>2.127107e+08</td>\n",
       "      <td>2917562</td>\n",
       "      <td>NaN</td>\n",
       "      <td>98644.0</td>\n",
       "      <td>NaN</td>\n",
       "      <td>2047660.0</td>\n",
       "      <td>NaN</td>\n",
       "      <td>771258.0</td>\n",
       "      <td>8318.0</td>\n",
       "      <td>13716.0</td>\n",
       "      <td>464.0</td>\n",
       "      <td>13206188.0</td>\n",
       "      <td>62085.0</td>\n",
       "      <td>Americas</td>\n",
       "    </tr>\n",
       "    <tr>\n",
       "      <th>2</th>\n",
       "      <td>India</td>\n",
       "      <td>Asia</td>\n",
       "      <td>1.381345e+09</td>\n",
       "      <td>2025409</td>\n",
       "      <td>NaN</td>\n",
       "      <td>41638.0</td>\n",
       "      <td>NaN</td>\n",
       "      <td>1377384.0</td>\n",
       "      <td>NaN</td>\n",
       "      <td>606387.0</td>\n",
       "      <td>8944.0</td>\n",
       "      <td>1466.0</td>\n",
       "      <td>30.0</td>\n",
       "      <td>22149351.0</td>\n",
       "      <td>16035.0</td>\n",
       "      <td>South-EastAsia</td>\n",
       "    </tr>\n",
       "    <tr>\n",
       "      <th>3</th>\n",
       "      <td>Russia</td>\n",
       "      <td>Europe</td>\n",
       "      <td>1.459409e+08</td>\n",
       "      <td>871894</td>\n",
       "      <td>NaN</td>\n",
       "      <td>14606.0</td>\n",
       "      <td>NaN</td>\n",
       "      <td>676357.0</td>\n",
       "      <td>NaN</td>\n",
       "      <td>180931.0</td>\n",
       "      <td>2300.0</td>\n",
       "      <td>5974.0</td>\n",
       "      <td>100.0</td>\n",
       "      <td>29716907.0</td>\n",
       "      <td>203623.0</td>\n",
       "      <td>Europe</td>\n",
       "    </tr>\n",
       "    <tr>\n",
       "      <th>4</th>\n",
       "      <td>South Africa</td>\n",
       "      <td>Africa</td>\n",
       "      <td>5.938157e+07</td>\n",
       "      <td>538184</td>\n",
       "      <td>NaN</td>\n",
       "      <td>9604.0</td>\n",
       "      <td>NaN</td>\n",
       "      <td>387316.0</td>\n",
       "      <td>NaN</td>\n",
       "      <td>141264.0</td>\n",
       "      <td>539.0</td>\n",
       "      <td>9063.0</td>\n",
       "      <td>162.0</td>\n",
       "      <td>3149807.0</td>\n",
       "      <td>53044.0</td>\n",
       "      <td>Africa</td>\n",
       "    </tr>\n",
       "    <tr>\n",
       "      <th>5</th>\n",
       "      <td>Mexico</td>\n",
       "      <td>North America</td>\n",
       "      <td>1.290662e+08</td>\n",
       "      <td>462690</td>\n",
       "      <td>6590.0</td>\n",
       "      <td>50517.0</td>\n",
       "      <td>819.0</td>\n",
       "      <td>308848.0</td>\n",
       "      <td>4140.0</td>\n",
       "      <td>103325.0</td>\n",
       "      <td>3987.0</td>\n",
       "      <td>3585.0</td>\n",
       "      <td>391.0</td>\n",
       "      <td>1056915.0</td>\n",
       "      <td>8189.0</td>\n",
       "      <td>Americas</td>\n",
       "    </tr>\n",
       "    <tr>\n",
       "      <th>6</th>\n",
       "      <td>Peru</td>\n",
       "      <td>South America</td>\n",
       "      <td>3.301632e+07</td>\n",
       "      <td>455409</td>\n",
       "      <td>NaN</td>\n",
       "      <td>20424.0</td>\n",
       "      <td>NaN</td>\n",
       "      <td>310337.0</td>\n",
       "      <td>NaN</td>\n",
       "      <td>124648.0</td>\n",
       "      <td>1426.0</td>\n",
       "      <td>13793.0</td>\n",
       "      <td>619.0</td>\n",
       "      <td>2493429.0</td>\n",
       "      <td>75521.0</td>\n",
       "      <td>Americas</td>\n",
       "    </tr>\n",
       "    <tr>\n",
       "      <th>7</th>\n",
       "      <td>Chile</td>\n",
       "      <td>South America</td>\n",
       "      <td>1.913251e+07</td>\n",
       "      <td>366671</td>\n",
       "      <td>NaN</td>\n",
       "      <td>9889.0</td>\n",
       "      <td>NaN</td>\n",
       "      <td>340168.0</td>\n",
       "      <td>NaN</td>\n",
       "      <td>16614.0</td>\n",
       "      <td>1358.0</td>\n",
       "      <td>19165.0</td>\n",
       "      <td>517.0</td>\n",
       "      <td>1760615.0</td>\n",
       "      <td>92022.0</td>\n",
       "      <td>Americas</td>\n",
       "    </tr>\n",
       "    <tr>\n",
       "      <th>8</th>\n",
       "      <td>Colombia</td>\n",
       "      <td>South America</td>\n",
       "      <td>5.093626e+07</td>\n",
       "      <td>357710</td>\n",
       "      <td>NaN</td>\n",
       "      <td>11939.0</td>\n",
       "      <td>NaN</td>\n",
       "      <td>192355.0</td>\n",
       "      <td>NaN</td>\n",
       "      <td>153416.0</td>\n",
       "      <td>1493.0</td>\n",
       "      <td>7023.0</td>\n",
       "      <td>234.0</td>\n",
       "      <td>1801835.0</td>\n",
       "      <td>35374.0</td>\n",
       "      <td>Americas</td>\n",
       "    </tr>\n",
       "    <tr>\n",
       "      <th>9</th>\n",
       "      <td>Spain</td>\n",
       "      <td>Europe</td>\n",
       "      <td>4.675665e+07</td>\n",
       "      <td>354530</td>\n",
       "      <td>NaN</td>\n",
       "      <td>28500.0</td>\n",
       "      <td>NaN</td>\n",
       "      <td>NaN</td>\n",
       "      <td>NaN</td>\n",
       "      <td>NaN</td>\n",
       "      <td>617.0</td>\n",
       "      <td>7582.0</td>\n",
       "      <td>610.0</td>\n",
       "      <td>7064329.0</td>\n",
       "      <td>151087.0</td>\n",
       "      <td>Europe</td>\n",
       "    </tr>\n",
       "  </tbody>\n",
       "</table>\n",
       "</div>"
      ],
      "text/plain": [
       "  Country/Region      Continent    Population  TotalCases  NewCases  \\\n",
       "0            USA  North America  3.311981e+08     5032179       NaN   \n",
       "1         Brazil  South America  2.127107e+08     2917562       NaN   \n",
       "2          India           Asia  1.381345e+09     2025409       NaN   \n",
       "3         Russia         Europe  1.459409e+08      871894       NaN   \n",
       "4   South Africa         Africa  5.938157e+07      538184       NaN   \n",
       "5         Mexico  North America  1.290662e+08      462690    6590.0   \n",
       "6           Peru  South America  3.301632e+07      455409       NaN   \n",
       "7          Chile  South America  1.913251e+07      366671       NaN   \n",
       "8       Colombia  South America  5.093626e+07      357710       NaN   \n",
       "9          Spain         Europe  4.675665e+07      354530       NaN   \n",
       "\n",
       "   TotalDeaths  NewDeaths  TotalRecovered  NewRecovered  ActiveCases  \\\n",
       "0     162804.0        NaN       2576668.0           NaN    2292707.0   \n",
       "1      98644.0        NaN       2047660.0           NaN     771258.0   \n",
       "2      41638.0        NaN       1377384.0           NaN     606387.0   \n",
       "3      14606.0        NaN        676357.0           NaN     180931.0   \n",
       "4       9604.0        NaN        387316.0           NaN     141264.0   \n",
       "5      50517.0      819.0        308848.0        4140.0     103325.0   \n",
       "6      20424.0        NaN        310337.0           NaN     124648.0   \n",
       "7       9889.0        NaN        340168.0           NaN      16614.0   \n",
       "8      11939.0        NaN        192355.0           NaN     153416.0   \n",
       "9      28500.0        NaN             NaN           NaN          NaN   \n",
       "\n",
       "   Serious,Critical  Tot Cases/1M pop  Deaths/1M pop  TotalTests  \\\n",
       "0           18296.0           15194.0          492.0  63139605.0   \n",
       "1            8318.0           13716.0          464.0  13206188.0   \n",
       "2            8944.0            1466.0           30.0  22149351.0   \n",
       "3            2300.0            5974.0          100.0  29716907.0   \n",
       "4             539.0            9063.0          162.0   3149807.0   \n",
       "5            3987.0            3585.0          391.0   1056915.0   \n",
       "6            1426.0           13793.0          619.0   2493429.0   \n",
       "7            1358.0           19165.0          517.0   1760615.0   \n",
       "8            1493.0            7023.0          234.0   1801835.0   \n",
       "9             617.0            7582.0          610.0   7064329.0   \n",
       "\n",
       "   Tests/1M pop      WHO Region  \n",
       "0      190640.0        Americas  \n",
       "1       62085.0        Americas  \n",
       "2       16035.0  South-EastAsia  \n",
       "3      203623.0          Europe  \n",
       "4       53044.0          Africa  \n",
       "5        8189.0        Americas  \n",
       "6       75521.0        Americas  \n",
       "7       92022.0        Americas  \n",
       "8       35374.0        Americas  \n",
       "9      151087.0          Europe  "
      ]
     },
     "execution_count": 53,
     "metadata": {},
     "output_type": "execute_result"
    }
   ],
   "source": [
    "##Part 1 – Basic Data Understanding (Pandas)\n",
    "#Load the dataset and display the first 10 rows.\n",
    "df = pd.read_csv('worldometer_data.csv')\n",
    "daywise=pd.read_csv('day_wise.csv')\n",
    "full=pd.read_csv('full_grouped.csv')\n",
    "df.head(10)"
   ]
  },
  {
   "cell_type": "code",
   "execution_count": 54,
   "id": "610dc8b2",
   "metadata": {},
   "outputs": [
    {
     "name": "stdout",
     "output_type": "stream",
     "text": [
      "Shape of DataFrame: (209, 16)\n",
      "Column Names: ['Country/Region', 'Continent', 'Population', 'TotalCases', 'NewCases', 'TotalDeaths', 'NewDeaths', 'TotalRecovered', 'NewRecovered', 'ActiveCases', 'Serious,Critical', 'Tot Cases/1M pop', 'Deaths/1M pop', 'TotalTests', 'Tests/1M pop', 'WHO Region']\n",
      "Data Types:\n",
      " Country/Region       object\n",
      "Continent            object\n",
      "Population          float64\n",
      "TotalCases            int64\n",
      "NewCases            float64\n",
      "TotalDeaths         float64\n",
      "NewDeaths           float64\n",
      "TotalRecovered      float64\n",
      "NewRecovered        float64\n",
      "ActiveCases         float64\n",
      "Serious,Critical    float64\n",
      "Tot Cases/1M pop    float64\n",
      "Deaths/1M pop       float64\n",
      "TotalTests          float64\n",
      "Tests/1M pop        float64\n",
      "WHO Region           object\n",
      "dtype: object\n"
     ]
    }
   ],
   "source": [
    "#Show the shape, column names, and data types.\n",
    "print(\"Shape of DataFrame:\", df.shape)\n",
    "print(\"Column Names:\", df.columns.tolist())\n",
    "print(\"Data Types:\\n\", df.dtypes)"
   ]
  },
  {
   "cell_type": "code",
   "execution_count": 55,
   "id": "f46d286f",
   "metadata": {},
   "outputs": [
    {
     "name": "stdout",
     "output_type": "stream",
     "text": [
      "Missing Values:\n",
      " Country/Region        0\n",
      "Continent             1\n",
      "Population            1\n",
      "TotalCases            0\n",
      "NewCases            205\n",
      "TotalDeaths          21\n",
      "NewDeaths           206\n",
      "TotalRecovered        4\n",
      "NewRecovered        206\n",
      "ActiveCases           4\n",
      "Serious,Critical     87\n",
      "Tot Cases/1M pop      1\n",
      "Deaths/1M pop        22\n",
      "TotalTests           18\n",
      "Tests/1M pop         18\n",
      "WHO Region           25\n",
      "dtype: int64\n",
      "Duplicate Rows: 0\n"
     ]
    }
   ],
   "source": [
    "#Check for missing values and duplicates.\n",
    "print(\"Missing Values:\\n\", df.isnull().sum())\n",
    "print(\"Duplicate Rows:\", df.duplicated().sum())"
   ]
  },
  {
   "cell_type": "code",
   "execution_count": 56,
   "id": "c89557de",
   "metadata": {},
   "outputs": [
    {
     "data": {
      "text/html": [
       "<div>\n",
       "<style scoped>\n",
       "    .dataframe tbody tr th:only-of-type {\n",
       "        vertical-align: middle;\n",
       "    }\n",
       "\n",
       "    .dataframe tbody tr th {\n",
       "        vertical-align: top;\n",
       "    }\n",
       "\n",
       "    .dataframe thead th {\n",
       "        text-align: right;\n",
       "    }\n",
       "</style>\n",
       "<table border=\"1\" class=\"dataframe\">\n",
       "  <thead>\n",
       "    <tr style=\"text-align: right;\">\n",
       "      <th></th>\n",
       "      <th>Population</th>\n",
       "      <th>TotalCases</th>\n",
       "      <th>NewCases</th>\n",
       "      <th>TotalDeaths</th>\n",
       "      <th>NewDeaths</th>\n",
       "      <th>TotalRecovered</th>\n",
       "      <th>NewRecovered</th>\n",
       "      <th>ActiveCases</th>\n",
       "      <th>Serious,Critical</th>\n",
       "      <th>Tot Cases/1M pop</th>\n",
       "      <th>Deaths/1M pop</th>\n",
       "      <th>TotalTests</th>\n",
       "      <th>Tests/1M pop</th>\n",
       "    </tr>\n",
       "  </thead>\n",
       "  <tbody>\n",
       "    <tr>\n",
       "      <th>count</th>\n",
       "      <td>2.080000e+02</td>\n",
       "      <td>2.090000e+02</td>\n",
       "      <td>4.000000</td>\n",
       "      <td>188.000000</td>\n",
       "      <td>3.000000</td>\n",
       "      <td>2.050000e+02</td>\n",
       "      <td>3.000000</td>\n",
       "      <td>2.050000e+02</td>\n",
       "      <td>122.000000</td>\n",
       "      <td>208.000000</td>\n",
       "      <td>187.000000</td>\n",
       "      <td>1.910000e+02</td>\n",
       "      <td>191.000000</td>\n",
       "    </tr>\n",
       "    <tr>\n",
       "      <th>mean</th>\n",
       "      <td>3.041549e+07</td>\n",
       "      <td>9.171850e+04</td>\n",
       "      <td>1980.500000</td>\n",
       "      <td>3792.590426</td>\n",
       "      <td>300.000000</td>\n",
       "      <td>5.887898e+04</td>\n",
       "      <td>1706.000000</td>\n",
       "      <td>2.766433e+04</td>\n",
       "      <td>534.393443</td>\n",
       "      <td>3196.024038</td>\n",
       "      <td>98.681176</td>\n",
       "      <td>1.402405e+06</td>\n",
       "      <td>83959.366492</td>\n",
       "    </tr>\n",
       "    <tr>\n",
       "      <th>std</th>\n",
       "      <td>1.047661e+08</td>\n",
       "      <td>4.325867e+05</td>\n",
       "      <td>3129.611424</td>\n",
       "      <td>15487.184877</td>\n",
       "      <td>451.199512</td>\n",
       "      <td>2.566984e+05</td>\n",
       "      <td>2154.779803</td>\n",
       "      <td>1.746327e+05</td>\n",
       "      <td>2047.518613</td>\n",
       "      <td>5191.986457</td>\n",
       "      <td>174.956862</td>\n",
       "      <td>5.553367e+06</td>\n",
       "      <td>152730.591240</td>\n",
       "    </tr>\n",
       "    <tr>\n",
       "      <th>min</th>\n",
       "      <td>8.010000e+02</td>\n",
       "      <td>1.000000e+01</td>\n",
       "      <td>20.000000</td>\n",
       "      <td>1.000000</td>\n",
       "      <td>1.000000</td>\n",
       "      <td>7.000000e+00</td>\n",
       "      <td>42.000000</td>\n",
       "      <td>0.000000e+00</td>\n",
       "      <td>1.000000</td>\n",
       "      <td>3.000000</td>\n",
       "      <td>0.080000</td>\n",
       "      <td>6.100000e+01</td>\n",
       "      <td>4.000000</td>\n",
       "    </tr>\n",
       "    <tr>\n",
       "      <th>25%</th>\n",
       "      <td>9.663140e+05</td>\n",
       "      <td>7.120000e+02</td>\n",
       "      <td>27.500000</td>\n",
       "      <td>22.000000</td>\n",
       "      <td>40.500000</td>\n",
       "      <td>3.340000e+02</td>\n",
       "      <td>489.000000</td>\n",
       "      <td>8.600000e+01</td>\n",
       "      <td>3.250000</td>\n",
       "      <td>282.000000</td>\n",
       "      <td>6.000000</td>\n",
       "      <td>2.575200e+04</td>\n",
       "      <td>8956.500000</td>\n",
       "    </tr>\n",
       "    <tr>\n",
       "      <th>50%</th>\n",
       "      <td>7.041972e+06</td>\n",
       "      <td>4.491000e+03</td>\n",
       "      <td>656.000000</td>\n",
       "      <td>113.000000</td>\n",
       "      <td>80.000000</td>\n",
       "      <td>2.178000e+03</td>\n",
       "      <td>936.000000</td>\n",
       "      <td>8.990000e+02</td>\n",
       "      <td>27.500000</td>\n",
       "      <td>1015.000000</td>\n",
       "      <td>29.000000</td>\n",
       "      <td>1.357020e+05</td>\n",
       "      <td>32585.000000</td>\n",
       "    </tr>\n",
       "    <tr>\n",
       "      <th>75%</th>\n",
       "      <td>2.575614e+07</td>\n",
       "      <td>3.689600e+04</td>\n",
       "      <td>2609.000000</td>\n",
       "      <td>786.000000</td>\n",
       "      <td>449.500000</td>\n",
       "      <td>2.055300e+04</td>\n",
       "      <td>2538.000000</td>\n",
       "      <td>7.124000e+03</td>\n",
       "      <td>160.250000</td>\n",
       "      <td>3841.750000</td>\n",
       "      <td>98.000000</td>\n",
       "      <td>7.576960e+05</td>\n",
       "      <td>92154.500000</td>\n",
       "    </tr>\n",
       "    <tr>\n",
       "      <th>max</th>\n",
       "      <td>1.381345e+09</td>\n",
       "      <td>5.032179e+06</td>\n",
       "      <td>6590.000000</td>\n",
       "      <td>162804.000000</td>\n",
       "      <td>819.000000</td>\n",
       "      <td>2.576668e+06</td>\n",
       "      <td>4140.000000</td>\n",
       "      <td>2.292707e+06</td>\n",
       "      <td>18296.000000</td>\n",
       "      <td>39922.000000</td>\n",
       "      <td>1238.000000</td>\n",
       "      <td>6.313960e+07</td>\n",
       "      <td>995282.000000</td>\n",
       "    </tr>\n",
       "  </tbody>\n",
       "</table>\n",
       "</div>"
      ],
      "text/plain": [
       "         Population    TotalCases     NewCases    TotalDeaths   NewDeaths  \\\n",
       "count  2.080000e+02  2.090000e+02     4.000000     188.000000    3.000000   \n",
       "mean   3.041549e+07  9.171850e+04  1980.500000    3792.590426  300.000000   \n",
       "std    1.047661e+08  4.325867e+05  3129.611424   15487.184877  451.199512   \n",
       "min    8.010000e+02  1.000000e+01    20.000000       1.000000    1.000000   \n",
       "25%    9.663140e+05  7.120000e+02    27.500000      22.000000   40.500000   \n",
       "50%    7.041972e+06  4.491000e+03   656.000000     113.000000   80.000000   \n",
       "75%    2.575614e+07  3.689600e+04  2609.000000     786.000000  449.500000   \n",
       "max    1.381345e+09  5.032179e+06  6590.000000  162804.000000  819.000000   \n",
       "\n",
       "       TotalRecovered  NewRecovered   ActiveCases  Serious,Critical  \\\n",
       "count    2.050000e+02      3.000000  2.050000e+02        122.000000   \n",
       "mean     5.887898e+04   1706.000000  2.766433e+04        534.393443   \n",
       "std      2.566984e+05   2154.779803  1.746327e+05       2047.518613   \n",
       "min      7.000000e+00     42.000000  0.000000e+00          1.000000   \n",
       "25%      3.340000e+02    489.000000  8.600000e+01          3.250000   \n",
       "50%      2.178000e+03    936.000000  8.990000e+02         27.500000   \n",
       "75%      2.055300e+04   2538.000000  7.124000e+03        160.250000   \n",
       "max      2.576668e+06   4140.000000  2.292707e+06      18296.000000   \n",
       "\n",
       "       Tot Cases/1M pop  Deaths/1M pop    TotalTests   Tests/1M pop  \n",
       "count        208.000000     187.000000  1.910000e+02     191.000000  \n",
       "mean        3196.024038      98.681176  1.402405e+06   83959.366492  \n",
       "std         5191.986457     174.956862  5.553367e+06  152730.591240  \n",
       "min            3.000000       0.080000  6.100000e+01       4.000000  \n",
       "25%          282.000000       6.000000  2.575200e+04    8956.500000  \n",
       "50%         1015.000000      29.000000  1.357020e+05   32585.000000  \n",
       "75%         3841.750000      98.000000  7.576960e+05   92154.500000  \n",
       "max        39922.000000    1238.000000  6.313960e+07  995282.000000  "
      ]
     },
     "execution_count": 56,
     "metadata": {},
     "output_type": "execute_result"
    }
   ],
   "source": [
    "#Use .describe() for numeric columns.\n",
    "df.describe()"
   ]
  },
  {
   "cell_type": "code",
   "execution_count": 57,
   "id": "538447b5",
   "metadata": {},
   "outputs": [
    {
     "name": "stdout",
     "output_type": "stream",
     "text": [
      "Unique Countries: 209\n"
     ]
    }
   ],
   "source": [
    "#Count the number of unique countries.\n",
    "print(\"Unique Countries:\", df['Country/Region'].nunique())"
   ]
  },
  {
   "cell_type": "code",
   "execution_count": 58,
   "id": "bdb5d76c",
   "metadata": {},
   "outputs": [
    {
     "name": "stdout",
     "output_type": "stream",
     "text": [
      "Latest Date in Dataset: 2020-07-27\n"
     ]
    }
   ],
   "source": [
    "#Find the latest date in the dataset.\n",
    "latest_date = full['Date'].max()\n",
    "print(\"Latest Date in Dataset:\", latest_date)"
   ]
  },
  {
   "cell_type": "markdown",
   "id": "02ef04fb",
   "metadata": {},
   "source": [
    "Part 2 – EDA (Exploratory Data Analysis)"
   ]
  },
  {
   "cell_type": "code",
   "execution_count": 59,
   "id": "de25b20b",
   "metadata": {},
   "outputs": [
    {
     "data": {
      "image/png": "[encoded data removed]",
      "text/plain": [
       "<Figure size 1200x600 with 1 Axes>"
      ]
     },
     "metadata": {},
     "output_type": "display_data"
    }
   ],
   "source": [
    "#Histogram of confirmed cases.\n",
    "plt.figure(figsize=(12,6))\n",
    "plt.bar(daywise['Date'], daywise['Confirmed'], color='blue', alpha=0.7)\n",
    "plt.title('COVID-19 Confirmed Cases by Date')\n",
    "plt.xlabel('Date')\n",
    "plt.ylabel('Number of Confirmed Cases')\n",
    "plt.xticks(rotation=45)\n",
    "plt.show()\n"
   ]
  },
  {
   "cell_type": "code",
   "execution_count": 60,
   "id": "4e06b1e4",
   "metadata": {},
   "outputs": [
    {
     "name": "stdout",
     "output_type": "stream",
     "text": [
      "   Country/Region  Confirmed        Date\n",
      "0              US    4290259  2020-07-27\n",
      "1          Brazil    2442375  2020-07-27\n",
      "2           India    1480073  2020-07-27\n",
      "3          Russia     816680  2020-07-27\n",
      "4    South Africa     452529  2020-07-27\n",
      "5          Mexico     395489  2020-07-27\n",
      "6            Peru     389717  2020-07-27\n",
      "7           Chile     347923  2020-07-27\n",
      "8  United Kingdom     301708  2020-07-27\n",
      "9            Iran     293606  2020-07-27\n"
     ]
    },
    {
     "data": {
      "image/png": "[encoded data removed]",
      "text/plain": [
       "<Figure size 1200x600 with 1 Axes>"
      ]
     },
     "metadata": {},
     "output_type": "display_data"
    }
   ],
   "source": [
    "#Top 10 countries by confirmed cases (latest date)\n",
    "latest_date = full['Date'].max()\n",
    "top_10_countries = full[full['Date'] == latest_date].nlargest(10, 'Confirmed')\n",
    "top_10_countries = top_10_countries[['Country/Region', 'Confirmed','Date']].reset_index(drop=True)\n",
    "print(top_10_countries)\n",
    "plt.figure(figsize=(12,6))\n",
    "plt.bar(top_10_countries['Country/Region'], top_10_countries['Confirmed'], color='orange')\n",
    "plt.title('Top 10 Countries by Confirmed Cases on ' + str(latest_date))\n",
    "plt.xlabel('Country/Region')\n",
    "plt.ylabel('Confirmed Cases')\n",
    "plt.show()"
   ]
  },
  {
   "cell_type": "code",
   "execution_count": 61,
   "id": "dbbf24ad",
   "metadata": {},
   "outputs": [
    {
     "name": "stdout",
     "output_type": "stream",
     "text": [
      "   Country/Region  Deaths        Date\n",
      "0              US  148011  2020-07-27\n",
      "1          Brazil   87618  2020-07-27\n",
      "2  United Kingdom   45844  2020-07-27\n",
      "3          Mexico   44022  2020-07-27\n",
      "4           Italy   35112  2020-07-27\n",
      "5           India   33408  2020-07-27\n",
      "6          France   30212  2020-07-27\n",
      "7           Spain   28432  2020-07-27\n",
      "8            Peru   18418  2020-07-27\n",
      "9            Iran   15912  2020-07-27\n"
     ]
    },
    {
     "data": {
      "image/png": "[encoded data removed]",
      "text/plain": [
       "<Figure size 1200x600 with 1 Axes>"
      ]
     },
     "metadata": {},
     "output_type": "display_data"
    }
   ],
   "source": [
    "#Top 10 countries by death count (latest date).\n",
    "latest_date = full['Date'].max()\n",
    "top_10_deaths = full[full['Date'] == latest_date].nlargest(10, 'Deaths')\n",
    "top_10_deaths = top_10_deaths[['Country/Region', 'Deaths','Date']].reset_index(drop=True)\n",
    "print(top_10_deaths)\n",
    "plt.figure(figsize=(12,6))\n",
    "plt.bar(top_10_deaths['Country/Region'], top_10_deaths['Deaths'], color='red')\n",
    "plt.title('Top 10 Countries by Deaths on ' + str(latest_date))\n",
    "plt.xlabel('Country/Region')\n",
    "plt.ylabel('Deaths')\n",
    "plt.show()"
   ]
  },
  {
   "cell_type": "code",
   "execution_count": 62,
   "id": "514a9d54",
   "metadata": {},
   "outputs": [
    {
     "data": {
      "image/png": "[encoded data removed]",
      "text/plain": [
       "<Figure size 1200x600 with 1 Axes>"
      ]
     },
     "metadata": {},
     "output_type": "display_data"
    }
   ],
   "source": [
    "#Scatter plot: confirmed vs deaths\n",
    "plt.figure(figsize=(12,6))\n",
    "plt.scatter(full['Confirmed'], full['Deaths'], alpha=0.8, color='purple')\n",
    "plt.title('Confirmed vs Deaths')\n",
    "plt.xlabel('Confirmed Cases')\n",
    "plt.ylabel('Deaths')\n",
    "plt.show()\n"
   ]
  },
  {
   "cell_type": "code",
   "execution_count": 63,
   "id": "e79c30f1",
   "metadata": {},
   "outputs": [
    {
     "data": {
      "image/png": "[encoded data removed]",
      "text/plain": [
       "<Figure size 1200x600 with 1 Axes>"
      ]
     },
     "metadata": {},
     "output_type": "display_data"
    }
   ],
   "source": [
    "#Time series line plot for confirmed cases in \"India\".\n",
    "india_data = full[full['Country/Region'] == 'India']\n",
    "plt.figure(figsize=(12,6))\n",
    "plt.plot(india_data['Date'], india_data['Confirmed'], color='blue')\n",
    "plt.title('Time Series of Confirmed Cases in India')\n",
    "plt.xlabel('Date')\n",
    "plt.ylabel('Confirmed Cases')\n",
    "plt.show()\n"
   ]
  },
  {
   "cell_type": "code",
   "execution_count": 64,
   "id": "6779a55a",
   "metadata": {},
   "outputs": [
    {
     "name": "stdout",
     "output_type": "stream",
     "text": [
      "['North America' 'South America' 'Asia' 'Europe' 'Africa'\n",
      " 'Australia/Oceania' nan]\n"
     ]
    }
   ],
   "source": [
    "print(df['Continent'].unique())"
   ]
  },
  {
   "cell_type": "code",
   "execution_count": 65,
   "id": "25402770",
   "metadata": {},
   "outputs": [
    {
     "data": {
      "image/png": "[encoded data removed]",
      "text/plain": [
       "<Figure size 1000x600 with 1 Axes>"
      ]
     },
     "metadata": {},
     "output_type": "display_data"
    }
   ],
   "source": [
    "#Bar chart of total confirmed cases by continent (group manually) in df\n",
    "continent_cases = df.groupby('Continent', as_index=False)['TotalCases'].sum()\n",
    "\n",
    "plt.figure(figsize=(10,6))\n",
    "plt.bar(continent_cases['Continent'], continent_cases['TotalCases'],\n",
    "        color='skyblue', edgecolor='black')\n",
    "plt.title(\"total confirmed cases by continent\")\n",
    "plt.xlabel(\"Continent\")\n",
    "plt.ylabel(\"Total Confirmed Cases\")\n",
    "plt.xticks(rotation=45)\n",
    "\n",
    "plt.show()\n"
   ]
  },
  {
   "cell_type": "markdown",
   "id": "0ff2a3e6",
   "metadata": {},
   "source": [
    "Part 3 – Statistics"
   ]
  },
  {
   "cell_type": "code",
   "execution_count": 66,
   "id": "d28de38d",
   "metadata": {},
   "outputs": [
    {
     "name": "stdout",
     "output_type": "stream",
     "text": [
      "Mean of Confirmed Cases: 91718.4976076555\n",
      "Median of Confirmed Cases: 4491.0\n",
      "Mode of Confirmed Cases: 13\n"
     ]
    }
   ],
   "source": [
    "#Calculate mean, median, and mode of confirmed cases (latest date).\n",
    "mean_cases = df['TotalCases'].mean()\n",
    "median_cases = df['TotalCases'].median()\n",
    "mode_cases = df['TotalCases'].mode()[0]\n",
    "print(\"Mean of Confirmed Cases:\", mean_cases)\n",
    "print(\"Median of Confirmed Cases:\", median_cases)\n",
    "print(\"Mode of Confirmed Cases:\", mode_cases)"
   ]
  },
  {
   "cell_type": "code",
   "execution_count": 67,
   "id": "260bd750",
   "metadata": {},
   "outputs": [
    {
     "name": "stdout",
     "output_type": "stream",
     "text": [
      "Variance of Death Counts: 239852895.4195872\n",
      "Standard Deviation of Death Counts: 15487.184877168194\n"
     ]
    }
   ],
   "source": [
    "#Find variance and standard deviation of death counts.\n",
    "variance_deaths = df['TotalDeaths'].var()\n",
    "std_deaths = df['TotalDeaths'].std()\n",
    "print(\"Variance of Death Counts:\", variance_deaths)\n",
    "print(\"Standard Deviation of Death Counts:\", std_deaths)"
   ]
  },
  {
   "cell_type": "code",
   "execution_count": 68,
   "id": "1f2552cc",
   "metadata": {},
   "outputs": [
    {
     "name": "stdout",
     "output_type": "stream",
     "text": [
      "Correlation between Confirmed and Death Counts: 0.9386219031238753\n"
     ]
    }
   ],
   "source": [
    "#Correlation between confirmed and death counts.\n",
    "correlation = df['TotalCases'].corr(df['TotalDeaths'])\n",
    "print(\"Correlation between Confirmed and Death Counts:\", correlation)"
   ]
  },
  {
   "cell_type": "code",
   "execution_count": 69,
   "id": "423e9f09",
   "metadata": {},
   "outputs": [
    {
     "name": "stdout",
     "output_type": "stream",
     "text": [
      "Probability of Random Country having more than 100,000 Confirmed Cases: 0.12\n"
     ]
    }
   ],
   "source": [
    "#Probability: Random country has more than 100,000 confirmed cases.\n",
    "probability = (df['TotalCases'] > 100000).mean().round(2)\n",
    "print(\"Probability of Random Country having more than 100,000 Confirmed Cases:\", probability)\n"
   ]
  },
  {
   "cell_type": "code",
   "execution_count": 70,
   "id": "2bb5d65d",
   "metadata": {},
   "outputs": [
    {
     "name": "stdout",
     "output_type": "stream",
     "text": [
      "Probability of Random Country having Death Rate > 5%: 0.16\n"
     ]
    }
   ],
   "source": [
    "#Probability: Death rate > 5%.\n",
    "death_rate = df['TotalDeaths'] / df['TotalCases']\n",
    "probability_death_rate = (death_rate > 0.05).mean().round(2)\n",
    "print(\"Probability of Random Country having Death Rate > 5%:\", probability_death_rate)\n"
   ]
  },
  {
   "cell_type": "markdown",
   "id": "5529e1d7",
   "metadata": {},
   "source": [
    "Part 4 – Linear Algebra & NumPy"
   ]
  },
  {
   "cell_type": "code",
   "execution_count": 71,
   "id": "55e415c7",
   "metadata": {},
   "outputs": [],
   "source": [
    "#Create NumPy arrays for confirmed and deaths.and remove null values or fill\n",
    "confirmed_cases = df['TotalCases'].fillna(0).values\n",
    "death_counts = df['TotalDeaths'].fillna(0).values"
   ]
  },
  {
   "cell_type": "code",
   "execution_count": 72,
   "id": "8ae04a17",
   "metadata": {},
   "outputs": [
    {
     "name": "stdout",
     "output_type": "stream",
     "text": [
      "[4.869375e+06 2.818918e+06 1.983771e+06 8.572880e+05 5.285800e+05\n",
      " 4.121730e+05 4.349850e+05 3.567820e+05 3.457710e+05 3.260300e+05\n",
      " 3.021410e+05 2.617210e+05 2.811710e+05 2.758280e+05 2.463450e+05\n",
      " 2.140170e+05 2.314670e+05 2.239440e+05 2.059580e+05 1.653210e+05\n",
      " 1.354420e+05 1.173100e+05 1.132320e+05 1.095950e+05 1.119140e+05\n",
      " 9.488400e+04 9.005500e+04 8.466000e+04 8.295800e+04 7.620100e+04\n",
      " 8.022100e+04 7.898300e+04 7.498900e+04 7.529000e+04 6.984400e+04\n",
      " 6.129900e+04 6.957600e+04 6.792300e+04 6.149100e+04 5.532900e+04\n",
      " 5.082900e+04 5.452800e+04 5.222000e+04 5.031800e+04 4.774100e+04\n",
      " 4.431400e+04 4.367500e+04 4.273300e+04 4.123700e+04 3.904700e+04\n",
      " 3.944300e+04 3.721200e+04 3.559800e+04 3.412300e+04 3.235300e+04\n",
      " 3.276800e+04 2.919500e+04 2.814000e+04 2.671100e+04 2.580000e+04\n",
      " 2.460400e+04 2.401200e+04 2.210400e+04 2.168500e+04 2.097700e+04\n",
      " 2.087000e+04 2.053500e+04 1.963500e+04 1.861300e+04 1.734100e+04\n",
      " 1.732700e+04 1.634400e+04 1.421600e+04 1.368900e+04 1.330600e+04\n",
      " 1.301200e+04 1.257900e+04 1.239200e+04 1.101700e+04 1.088200e+04\n",
      " 1.049200e+04 9.212000e+03 9.094000e+03 8.913000e+03 8.080000e+03\n",
      " 7.736000e+03 7.603000e+03 7.615000e+03 7.373000e+03 7.201000e+03\n",
      " 6.965000e+03 6.954000e+03 6.287000e+03 6.309000e+03 5.828000e+03\n",
      " 5.602000e+03 5.249000e+03 5.271000e+03 4.913000e+03 4.772000e+03\n",
      " 4.738000e+03 4.661000e+03 4.561000e+03 3.997000e+03 4.354000e+03\n",
      " 4.255000e+03 3.779000e+03 3.804000e+03 3.488000e+03 3.420000e+03\n",
      " 3.272000e+03 3.134000e+03 3.003000e+03 2.913000e+03 2.828000e+03\n",
      " 2.687000e+03 2.707000e+03 2.637000e+03 2.428000e+03 2.451000e+03\n",
      " 2.403000e+03 2.098000e+03 2.090000e+03 2.061000e+03 2.105000e+03\n",
      " 2.106000e+03 2.067000e+03 2.005000e+03 1.898000e+03 1.920000e+03\n",
      " 1.810000e+03 1.260000e+03 1.591000e+03 1.547000e+03 1.419000e+03\n",
      " 1.281000e+03 1.243000e+03 1.221000e+03 1.146000e+03 1.218000e+03\n",
      " 1.189000e+03 1.189000e+03 1.104000e+03 1.084000e+03 9.900000e+02\n",
      " 9.510000e+02 9.460000e+02 9.370000e+02 8.920000e+02 8.660000e+02\n",
      " 9.190000e+02 8.630000e+02 8.020000e+02 7.470000e+02 7.370000e+02\n",
      " 7.190000e+02 6.990000e+02 6.570000e+02 6.660000e+02 5.500000e+02\n",
      " 5.160000e+02 4.880000e+02 4.700000e+02 3.890000e+02 3.940000e+02\n",
      " 3.510000e+02 3.340000e+02 3.120000e+02 2.930000e+02 2.820000e+02\n",
      " 2.650000e+02 2.610000e+02 2.660000e+02 2.600000e+02 2.430000e+02\n",
      " 2.020000e+02 2.020000e+02 1.900000e+02 1.600000e+02 1.440000e+02\n",
      " 1.480000e+02 1.380000e+02 1.260000e+02 1.270000e+02 1.260000e+02\n",
      " 1.210000e+02 1.050000e+02 8.900000e+01 8.800000e+01 8.400000e+01\n",
      " 6.400000e+01 5.600000e+01 5.000000e+01 4.600000e+01 3.000000e+01\n",
      " 2.600000e+01 2.500000e+01 2.500000e+01 2.400000e+01 2.200000e+01\n",
      " 2.000000e+01 1.800000e+01 1.700000e+01 1.400000e+01 1.200000e+01\n",
      " 1.300000e+01 1.300000e+01 1.200000e+01 9.000000e+00]\n"
     ]
    }
   ],
   "source": [
    "#Perform vector subtraction (confirmed - deaths).\n",
    "active_cases = confirmed_cases - death_counts\n",
    "print(active_cases)"
   ]
  },
  {
   "cell_type": "code",
   "execution_count": 73,
   "id": "acd4859d",
   "metadata": {},
   "outputs": [
    {
     "name": "stdout",
     "output_type": "stream",
     "text": [
      "Dot Product: 1309758668623.0\n"
     ]
    }
   ],
   "source": [
    "#Compute the dot product of confirmed and deaths arrays\n",
    "dot_product = np.dot(confirmed_cases, death_counts)\n",
    "print(\"Dot Product:\", dot_product)"
   ]
  },
  {
   "cell_type": "code",
   "execution_count": 74,
   "id": "30b6edce",
   "metadata": {},
   "outputs": [
    {
     "name": "stdout",
     "output_type": "stream",
     "text": [
      "Weighted Sum of Confirmed and Deaths: [3.5713665e+06 2.0718866e+06 1.4302777e+06 6.1470760e+05 3.7961000e+05\n",
      " 3.3903810e+05 3.2491350e+05 2.5963640e+05 2.5397870e+05 2.5672100e+05\n",
      " 2.2947470e+05 2.2961770e+05 1.9987470e+05 1.9911460e+05 1.7574750e+05\n",
      " 1.8499890e+05 1.6782490e+05 1.6101180e+05 1.5342260e+05 1.4603670e+05\n",
      " 9.9970400e+04 8.4267000e+04 8.4783400e+04 8.5682500e+04 7.8517800e+04\n",
      " 6.7476800e+04 6.7989500e+04 6.5139000e+04 6.1535600e+04 5.9106700e+04\n",
      " 5.6646700e+04 5.5864100e+04 5.4311300e+04 5.3949000e+04 5.0464800e+04\n",
      " 5.2768300e+04 4.9172200e+04 4.8126100e+04 4.3397700e+04 4.1296300e+04\n",
      " 4.1733300e+04 3.8196600e+04 3.8673000e+04 3.6965600e+04 3.5192700e+04\n",
      " 3.1949800e+04 3.1995500e+04 3.0069100e+04 2.9891900e+04 2.8104900e+04\n",
      " 2.7809100e+04 2.7495400e+04 2.6216600e+04 2.5871100e+04 2.3920100e+04\n",
      " 2.3416600e+04 2.0885500e+04 1.9873000e+04 1.9318700e+04 1.8888000e+04\n",
      " 1.8990800e+04 1.7207400e+04 1.5667800e+04 1.5244500e+04 1.5402900e+04\n",
      " 1.4809000e+04 1.4739500e+04 1.3999500e+04 1.3542100e+04 1.2528700e+04\n",
      " 1.2519900e+04 1.1543800e+04 1.0254200e+04 1.0199300e+04 9.4062000e+03\n",
      " 9.4924000e+03 9.2403000e+03 8.8084000e+03 8.4749000e+03 8.1344000e+03\n",
      " 7.5674000e+03 6.7044000e+03 6.5808000e+03 6.3641000e+03 5.7030000e+03\n",
      " 5.4662000e+03 5.3841000e+03 5.3795000e+03 5.3321000e+03 5.3717000e+03\n",
      " 5.0745000e+03 4.9868000e+03 4.5579000e+03 4.4823000e+03 4.2676000e+03\n",
      " 3.9914000e+03 3.8293000e+03 3.7487000e+03 3.6491000e+03 3.4474000e+03\n",
      " 3.3996000e+03 3.2817000e+03 3.2517000e+03 3.3979000e+03 3.1848000e+03\n",
      " 3.0625000e+03 2.7683000e+03 2.7088000e+03 2.4996000e+03 2.4540000e+03\n",
      " 2.3484000e+03 2.2868000e+03 2.1411000e+03 2.0941000e+03 1.9906000e+03\n",
      " 1.9689000e+03 1.9219000e+03 1.8609000e+03 1.8236000e+03 1.7447000e+03\n",
      " 1.7291000e+03 1.5936000e+03 1.5440000e+03 1.5057000e+03 1.4885000e+03\n",
      " 1.4792000e+03 1.4759000e+03 1.4305000e+03 1.3666000e+03 1.3540000e+03\n",
      " 1.3340000e+03 1.3900000e+03 1.1647000e+03 1.1049000e+03 1.0573000e+03\n",
      " 9.3370000e+02 9.0210000e+02 8.6570000e+02 8.8020000e+02 8.5760000e+02\n",
      " 8.5130000e+02 8.4930000e+02 8.2680000e+02 8.2780000e+02 7.1500000e+02\n",
      " 7.1370000e+02 6.7420000e+02 6.6490000e+02 6.7640000e+02 6.8220000e+02\n",
      " 6.5930000e+02 6.1910000e+02 5.6340000e+02 5.3690000e+02 5.2590000e+02\n",
      " 5.2630000e+02 5.0230000e+02 5.0190000e+02 4.7120000e+02 4.3200000e+02\n",
      " 3.8320000e+02 3.6260000e+02 3.3600000e+02 2.7930000e+02 2.7680000e+02\n",
      " 2.5170000e+02 2.4380000e+02 2.4240000e+02 2.0510000e+02 1.9740000e+02\n",
      " 1.9950000e+02 1.9770000e+02 1.8620000e+02 1.8500000e+02 1.7010000e+02\n",
      " 1.4940000e+02 1.4240000e+02 1.3300000e+02 1.1500000e+02 1.1680000e+02\n",
      " 1.1260000e+02 9.9600000e+01 9.5200000e+01 9.0900000e+01 8.8200000e+01\n",
      " 8.8700000e+01 7.3500000e+01 6.5300000e+01 6.2600000e+01 6.0800000e+01\n",
      " 4.4800000e+01 3.9200000e+01 3.8000000e+01 3.2200000e+01 2.2000000e+01\n",
      " 1.9200000e+01 1.7500000e+01 1.7500000e+01 1.6800000e+01 1.5400000e+01\n",
      " 1.4000000e+01 1.2600000e+01 1.1900000e+01 9.8000000e+00 9.4000000e+00\n",
      " 9.1000000e+00 9.1000000e+00 8.4000000e+00 7.3000000e+00]\n"
     ]
    }
   ],
   "source": [
    "#Create a matrix [Confirmed, Deaths] and multiply with weights [0.7, 0.3]\n",
    "weighted_matrix = np.array([confirmed_cases, death_counts]).T\n",
    "weights = np.array([0.7, 0.3])\n",
    "weighted_sum = np.dot(weighted_matrix, weights)\n",
    "print(\"Weighted Sum of Confirmed and Deaths:\", weighted_sum)\n"
   ]
  },
  {
   "cell_type": "code",
   "execution_count": 75,
   "id": "8f54bbb1",
   "metadata": {},
   "outputs": [
    {
     "name": "stdout",
     "output_type": "stream",
     "text": [
      "Normalized Confirmed Cases: [1.00000000e+00 5.79780210e-01 4.02490258e-01 1.73262067e-01\n",
      " 1.06946726e-01 9.19444478e-02 9.04975568e-02 7.28634114e-02\n",
      " 7.10826683e-02 7.04507341e-02 6.36121323e-02 6.12308529e-02\n",
      " 5.64798201e-02 5.60102413e-02 4.96090255e-02 4.95201970e-02\n",
      " 4.71476614e-02 4.53452577e-02 4.27648594e-02 3.88744893e-02\n",
      " 2.79388470e-02 2.37372791e-02 2.35967830e-02 2.35586285e-02\n",
      " 2.22730993e-02 1.90637477e-02 1.88777444e-02 1.79896581e-02\n",
      " 1.71721180e-02 1.62866152e-02 1.60374185e-02 1.58080939e-02\n",
      " 1.52614111e-02 1.52073589e-02 1.41903024e-02 1.41386349e-02\n",
      " 1.39174579e-02 1.36110294e-02 1.22879418e-02 1.15029920e-02\n",
      " 1.13215594e-02 1.08392624e-02 1.07963385e-02 1.03436510e-02\n",
      " 9.83770617e-03 8.98896679e-03 8.95995345e-03 8.52097773e-03\n",
      " 8.39657810e-03 7.91090283e-03 7.87572913e-03 7.68038593e-03\n",
      " 7.33003999e-03 7.17344747e-03 6.68022080e-03 6.60490536e-03\n",
      " 5.88891192e-03 5.62481109e-03 5.42946789e-03 5.28956798e-03\n",
      " 5.23869528e-03 4.84900249e-03 4.42930275e-03 4.32020467e-03\n",
      " 4.30947371e-03 4.18507407e-03 4.15129142e-03 3.95058274e-03\n",
      " 3.79875954e-03 3.52154310e-03 3.51895972e-03 3.26638473e-03\n",
      " 2.88324975e-03 2.84092208e-03 2.66048298e-03 2.66008554e-03\n",
      " 2.58417394e-03 2.48719787e-03 2.33895165e-03 2.26323877e-03\n",
      " 2.12731329e-03 1.87950762e-03 1.84791091e-03 1.79405739e-03\n",
      " 1.61302214e-03 1.54545684e-03 1.52121282e-03 1.52101410e-03\n",
      " 1.49716752e-03 1.49478287e-03 1.42165337e-03 1.40356971e-03\n",
      " 1.27857391e-03 1.26486213e-03 1.19352112e-03 1.12516094e-03\n",
      " 1.07190359e-03 1.05719820e-03 1.01606285e-03 9.67574817e-04\n",
      " 9.56048972e-04 9.28029245e-04 9.16105957e-04 9.11535364e-04\n",
      " 8.90470888e-04 8.60265226e-04 7.73423945e-04 7.63090429e-04\n",
      " 7.02679103e-04 6.89563486e-04 6.59755267e-04 6.39286956e-04\n",
      " 6.02523484e-04 5.87818096e-04 5.62183027e-04 5.49464853e-04\n",
      " 5.41317273e-04 5.25022113e-04 5.05149966e-04 4.90842021e-04\n",
      " 4.84880377e-04 4.39770604e-04 4.29437088e-04 4.20097179e-04\n",
      " 4.19302293e-04 4.17513800e-04 4.14532978e-04 4.01814804e-04\n",
      " 3.82737543e-04 3.81545214e-04 3.71012977e-04 3.49352337e-04\n",
      " 3.24313432e-04 3.09806765e-04 2.92716719e-04 2.59927677e-04\n",
      " 2.51382654e-04 2.42837631e-04 2.41247860e-04 2.41049138e-04\n",
      " 2.38068316e-04 2.37670873e-04 2.28132243e-04 2.27138635e-04\n",
      " 1.99118909e-04 1.96535530e-04 1.88387950e-04 1.86003292e-04\n",
      " 1.85605849e-04 1.85208406e-04 1.83817356e-04 1.72490232e-04\n",
      " 1.57784844e-04 1.49239821e-04 1.46457720e-04 1.45464113e-04\n",
      " 1.39502469e-04 1.36919090e-04 1.31354889e-04 1.16649500e-04\n",
      " 1.04924934e-04 9.91620115e-05 9.28029245e-05 7.67064858e-05\n",
      " 7.65077643e-05 6.89563486e-05 6.63729696e-05 6.47831979e-05\n",
      " 5.62381748e-05 5.40522387e-05 5.34560743e-05 5.28599099e-05\n",
      " 5.08726953e-05 5.02765309e-05 4.63021015e-05 3.97442932e-05\n",
      " 3.83532429e-05 3.57698638e-05 3.04043843e-05 2.98082199e-05\n",
      " 2.92120555e-05 2.60325120e-05 2.44427403e-05 2.36478544e-05\n",
      " 2.30516900e-05 2.28529686e-05 1.88785393e-05 1.62951602e-05\n",
      " 1.56989958e-05 1.51028314e-05 1.07309592e-05 9.14118743e-06\n",
      " 8.54502303e-06 7.15397277e-06 4.17315078e-06 3.37826492e-06\n",
      " 2.98082199e-06 2.98082199e-06 2.78210052e-06 2.38465759e-06\n",
      " 1.98721466e-06 1.58977173e-06 1.39105026e-06 7.94885863e-07\n",
      " 5.96164397e-07 5.96164397e-07 5.96164397e-07 3.97442932e-07\n",
      " 0.00000000e+00]\n"
     ]
    }
   ],
   "source": [
    "#Normalize the confirmed array.\n",
    "normalized_confirmed = (confirmed_cases - np.min(confirmed_cases)) / (np.max(confirmed_cases) - np.min(confirmed_cases))\n",
    "print(\"Normalized Confirmed Cases:\", normalized_confirmed)"
   ]
  },
  {
   "cell_type": "markdown",
   "id": "d4325595",
   "metadata": {},
   "source": [
    "Part 5 – Calculus"
   ]
  },
  {
   "cell_type": "code",
   "execution_count": 76,
   "id": "99c803cb",
   "metadata": {},
   "outputs": [
    {
     "name": "stdout",
     "output_type": "stream",
     "text": [
      "Derivative: 100/Confirmed\n"
     ]
    }
   ],
   "source": [
    "#Assume: Severity_Index = (Deaths×100) / Confirmed ,Find derivative wrt Deaths.\n",
    "import sympy as sp\n",
    "death_counts, confirmed_cases = sp.symbols('Deaths Confirmed')\n",
    "Severity_Index = (death_counts * 100) / confirmed_cases\n",
    "derivative = sp.diff(Severity_Index, death_counts)\n",
    "print(\"Derivative:\", derivative)"
   ]
  },
  {
   "cell_type": "markdown",
   "id": "dac49cdf",
   "metadata": {},
   "source": [
    "Part 6 – Feature Engineering\n"
   ]
  },
  {
   "cell_type": "code",
   "execution_count": 83,
   "id": "0dac659a",
   "metadata": {},
   "outputs": [
    {
     "data": {
      "text/html": [
       "<div>\n",
       "<style scoped>\n",
       "    .dataframe tbody tr th:only-of-type {\n",
       "        vertical-align: middle;\n",
       "    }\n",
       "\n",
       "    .dataframe tbody tr th {\n",
       "        vertical-align: top;\n",
       "    }\n",
       "\n",
       "    .dataframe thead th {\n",
       "        text-align: right;\n",
       "    }\n",
       "</style>\n",
       "<table border=\"1\" class=\"dataframe\">\n",
       "  <thead>\n",
       "    <tr style=\"text-align: right;\">\n",
       "      <th></th>\n",
       "      <th>Date</th>\n",
       "      <th>Country/Region</th>\n",
       "      <th>Confirmed</th>\n",
       "      <th>Deaths</th>\n",
       "      <th>Recovered</th>\n",
       "      <th>Active</th>\n",
       "      <th>New cases</th>\n",
       "      <th>New deaths</th>\n",
       "      <th>New recovered</th>\n",
       "      <th>WHO Region</th>\n",
       "    </tr>\n",
       "  </thead>\n",
       "  <tbody>\n",
       "    <tr>\n",
       "      <th>0</th>\n",
       "      <td>2020-01-22</td>\n",
       "      <td>Afghanistan</td>\n",
       "      <td>0</td>\n",
       "      <td>0</td>\n",
       "      <td>0</td>\n",
       "      <td>0</td>\n",
       "      <td>0</td>\n",
       "      <td>0</td>\n",
       "      <td>0</td>\n",
       "      <td>Eastern Mediterranean</td>\n",
       "    </tr>\n",
       "    <tr>\n",
       "      <th>1</th>\n",
       "      <td>2020-01-22</td>\n",
       "      <td>Albania</td>\n",
       "      <td>0</td>\n",
       "      <td>0</td>\n",
       "      <td>0</td>\n",
       "      <td>0</td>\n",
       "      <td>0</td>\n",
       "      <td>0</td>\n",
       "      <td>0</td>\n",
       "      <td>Europe</td>\n",
       "    </tr>\n",
       "    <tr>\n",
       "      <th>2</th>\n",
       "      <td>2020-01-22</td>\n",
       "      <td>Algeria</td>\n",
       "      <td>0</td>\n",
       "      <td>0</td>\n",
       "      <td>0</td>\n",
       "      <td>0</td>\n",
       "      <td>0</td>\n",
       "      <td>0</td>\n",
       "      <td>0</td>\n",
       "      <td>Africa</td>\n",
       "    </tr>\n",
       "    <tr>\n",
       "      <th>3</th>\n",
       "      <td>2020-01-22</td>\n",
       "      <td>Andorra</td>\n",
       "      <td>0</td>\n",
       "      <td>0</td>\n",
       "      <td>0</td>\n",
       "      <td>0</td>\n",
       "      <td>0</td>\n",
       "      <td>0</td>\n",
       "      <td>0</td>\n",
       "      <td>Europe</td>\n",
       "    </tr>\n",
       "    <tr>\n",
       "      <th>4</th>\n",
       "      <td>2020-01-22</td>\n",
       "      <td>Angola</td>\n",
       "      <td>0</td>\n",
       "      <td>0</td>\n",
       "      <td>0</td>\n",
       "      <td>0</td>\n",
       "      <td>0</td>\n",
       "      <td>0</td>\n",
       "      <td>0</td>\n",
       "      <td>Africa</td>\n",
       "    </tr>\n",
       "    <tr>\n",
       "      <th>...</th>\n",
       "      <td>...</td>\n",
       "      <td>...</td>\n",
       "      <td>...</td>\n",
       "      <td>...</td>\n",
       "      <td>...</td>\n",
       "      <td>...</td>\n",
       "      <td>...</td>\n",
       "      <td>...</td>\n",
       "      <td>...</td>\n",
       "      <td>...</td>\n",
       "    </tr>\n",
       "    <tr>\n",
       "      <th>35151</th>\n",
       "      <td>2020-07-27</td>\n",
       "      <td>West Bank and Gaza</td>\n",
       "      <td>10621</td>\n",
       "      <td>78</td>\n",
       "      <td>3752</td>\n",
       "      <td>6791</td>\n",
       "      <td>152</td>\n",
       "      <td>2</td>\n",
       "      <td>0</td>\n",
       "      <td>Eastern Mediterranean</td>\n",
       "    </tr>\n",
       "    <tr>\n",
       "      <th>35152</th>\n",
       "      <td>2020-07-27</td>\n",
       "      <td>Western Sahara</td>\n",
       "      <td>10</td>\n",
       "      <td>1</td>\n",
       "      <td>8</td>\n",
       "      <td>1</td>\n",
       "      <td>0</td>\n",
       "      <td>0</td>\n",
       "      <td>0</td>\n",
       "      <td>Africa</td>\n",
       "    </tr>\n",
       "    <tr>\n",
       "      <th>35153</th>\n",
       "      <td>2020-07-27</td>\n",
       "      <td>Yemen</td>\n",
       "      <td>1691</td>\n",
       "      <td>483</td>\n",
       "      <td>833</td>\n",
       "      <td>375</td>\n",
       "      <td>10</td>\n",
       "      <td>4</td>\n",
       "      <td>36</td>\n",
       "      <td>Eastern Mediterranean</td>\n",
       "    </tr>\n",
       "    <tr>\n",
       "      <th>35154</th>\n",
       "      <td>2020-07-27</td>\n",
       "      <td>Zambia</td>\n",
       "      <td>4552</td>\n",
       "      <td>140</td>\n",
       "      <td>2815</td>\n",
       "      <td>1597</td>\n",
       "      <td>71</td>\n",
       "      <td>1</td>\n",
       "      <td>465</td>\n",
       "      <td>Africa</td>\n",
       "    </tr>\n",
       "    <tr>\n",
       "      <th>35155</th>\n",
       "      <td>2020-07-27</td>\n",
       "      <td>Zimbabwe</td>\n",
       "      <td>2704</td>\n",
       "      <td>36</td>\n",
       "      <td>542</td>\n",
       "      <td>2126</td>\n",
       "      <td>192</td>\n",
       "      <td>2</td>\n",
       "      <td>24</td>\n",
       "      <td>Africa</td>\n",
       "    </tr>\n",
       "  </tbody>\n",
       "</table>\n",
       "<p>35156 rows × 10 columns</p>\n",
       "</div>"
      ],
      "text/plain": [
       "             Date      Country/Region  Confirmed  Deaths  Recovered  Active  \\\n",
       "0      2020-01-22         Afghanistan          0       0          0       0   \n",
       "1      2020-01-22             Albania          0       0          0       0   \n",
       "2      2020-01-22             Algeria          0       0          0       0   \n",
       "3      2020-01-22             Andorra          0       0          0       0   \n",
       "4      2020-01-22              Angola          0       0          0       0   \n",
       "...           ...                 ...        ...     ...        ...     ...   \n",
       "35151  2020-07-27  West Bank and Gaza      10621      78       3752    6791   \n",
       "35152  2020-07-27      Western Sahara         10       1          8       1   \n",
       "35153  2020-07-27               Yemen       1691     483        833     375   \n",
       "35154  2020-07-27              Zambia       4552     140       2815    1597   \n",
       "35155  2020-07-27            Zimbabwe       2704      36        542    2126   \n",
       "\n",
       "       New cases  New deaths  New recovered             WHO Region  \n",
       "0              0           0              0  Eastern Mediterranean  \n",
       "1              0           0              0                 Europe  \n",
       "2              0           0              0                 Africa  \n",
       "3              0           0              0                 Europe  \n",
       "4              0           0              0                 Africa  \n",
       "...          ...         ...            ...                    ...  \n",
       "35151        152           2              0  Eastern Mediterranean  \n",
       "35152          0           0              0                 Africa  \n",
       "35153         10           4             36  Eastern Mediterranean  \n",
       "35154         71           1            465                 Africa  \n",
       "35155        192           2             24                 Africa  \n",
       "\n",
       "[35156 rows x 10 columns]"
      ]
     },
     "execution_count": 83,
     "metadata": {},
     "output_type": "execute_result"
    }
   ],
   "source": [
    "full"
   ]
  },
  {
   "cell_type": "code",
   "execution_count": 103,
   "id": "0700d8c4",
   "metadata": {},
   "outputs": [
    {
     "name": "stdout",
     "output_type": "stream",
     "text": [
      "           Country/Region        Date  Deaths  Confirmed  death_rate\n",
      "35151  West Bank and Gaza  2020-07-27      78      10621        0.73\n",
      "35152      Western Sahara  2020-07-27       1         10       10.00\n",
      "35153               Yemen  2020-07-27     483       1691       28.56\n",
      "35154              Zambia  2020-07-27     140       4552        3.08\n",
      "35155            Zimbabwe  2020-07-27      36       2704        1.33\n"
     ]
    }
   ],
   "source": [
    "#Create column death_rate = (Deaths / Confirmed) × 100.\n",
    "\n",
    "full = full.fillna(0)\n",
    "full['death_rate'] = (full['Deaths'] / full['Confirmed']) * 100\n",
    "full['death_rate'] = full['death_rate'].fillna(0).round(2)\n",
    "print(full[['Country/Region', 'Date', 'Deaths', 'Confirmed', 'death_rate']].tail())"
   ]
  },
  {
   "cell_type": "code",
   "execution_count": 102,
   "id": "e3b829f9",
   "metadata": {},
   "outputs": [
    {
     "data": {
      "text/plain": [
       "0         0.00\n",
       "1         0.00\n",
       "2         0.00\n",
       "3         0.00\n",
       "4         0.00\n",
       "         ...  \n",
       "35151     0.73\n",
       "35152    10.00\n",
       "35153    28.56\n",
       "35154     3.08\n",
       "35155     1.33\n",
       "Name: death_rate, Length: 35156, dtype: float64"
      ]
     },
     "execution_count": 102,
     "metadata": {},
     "output_type": "execute_result"
    }
   ],
   "source": [
    "full['death_rate']"
   ]
  },
  {
   "cell_type": "code",
   "execution_count": 104,
   "id": "5c9ac9c4",
   "metadata": {},
   "outputs": [
    {
     "name": "stdout",
     "output_type": "stream",
     "text": [
      "           Country/Region        Date  Recovered  Confirmed  recovery_rate\n",
      "35151  West Bank and Gaza  2020-07-27       3752      10621          35.33\n",
      "35152      Western Sahara  2020-07-27          8         10          80.00\n",
      "35153               Yemen  2020-07-27        833       1691          49.26\n",
      "35154              Zambia  2020-07-27       2815       4552          61.84\n",
      "35155            Zimbabwe  2020-07-27        542       2704          20.04\n"
     ]
    }
   ],
   "source": [
    "#Create recovery_rate = (Recovered / Confirmed) × 100\n",
    "full['recovery_rate'] = (full['Recovered'] / full['Confirmed']) * 100\n",
    "full['recovery_rate'] = full['recovery_rate'].fillna(0).round(2)\n",
    "print(full[['Country/Region', 'Date', 'Recovered', 'Confirmed', 'recovery_rate']].tail())"
   ]
  },
  {
   "cell_type": "code",
   "execution_count": 105,
   "id": "429f18e6",
   "metadata": {},
   "outputs": [
    {
     "name": "stdout",
     "output_type": "stream",
     "text": [
      "           Country/Region        Date  death_rate  high_risk\n",
      "35151  West Bank and Gaza  2020-07-27        0.73          0\n",
      "35152      Western Sahara  2020-07-27       10.00          1\n",
      "35153               Yemen  2020-07-27       28.56          1\n",
      "35154              Zambia  2020-07-27        3.08          0\n",
      "35155            Zimbabwe  2020-07-27        1.33          0\n"
     ]
    }
   ],
   "source": [
    "#Create high_risk = 1 if death_rate > 5 else 0.\n",
    "full['high_risk'] = (full['death_rate'] > 5).astype(int)\n",
    "print(full[['Country/Region', 'Date', 'death_rate', 'high_risk']].tail())"
   ]
  },
  {
   "cell_type": "code",
   "execution_count": 106,
   "id": "e4e00380",
   "metadata": {},
   "outputs": [
    {
     "name": "stdout",
     "output_type": "stream",
     "text": [
      "           Country/Region        Date  Confirmed  quartile\n",
      "35151  West Bank and Gaza  2020-07-27      10621         3\n",
      "35152      Western Sahara  2020-07-27         10         1\n",
      "35153               Yemen  2020-07-27       1691         2\n",
      "35154              Zambia  2020-07-27       4552         3\n",
      "35155            Zimbabwe  2020-07-27       2704         2\n"
     ]
    }
   ],
   "source": [
    "#Create quartiles based on confirmed cases.\n",
    "quartiles = pd.qcut(full['Confirmed'], 4, labels=False)\n",
    "full['quartile'] = quartiles\n",
    "print(full[['Country/Region', 'Date', 'Confirmed', 'quartile']].tail())"
   ]
  },
  {
   "cell_type": "code",
   "execution_count": 107,
   "id": "b82f18e7",
   "metadata": {},
   "outputs": [
    {
     "name": "stdout",
     "output_type": "stream",
     "text": [
      "           Country/Region        Date  Confirmed  Deaths  Recovered  \\\n",
      "35151  West Bank and Gaza  2020-07-27      10621      78       3752   \n",
      "35152      Western Sahara  2020-07-27         10       1          8   \n",
      "35153               Yemen  2020-07-27       1691     483        833   \n",
      "35154              Zambia  2020-07-27       4552     140       2815   \n",
      "35155            Zimbabwe  2020-07-27       2704      36        542   \n",
      "\n",
      "       active_cases  \n",
      "35151          6791  \n",
      "35152             1  \n",
      "35153           375  \n",
      "35154          1597  \n",
      "35155          2126  \n"
     ]
    }
   ],
   "source": [
    "#Create active_cases = Confirmed - (Deaths + Recovered).\n",
    "full['active_cases'] = full['Confirmed'] - (full['Deaths'] + full['Recovered'])\n",
    "print(full[['Country/Region', 'Date', 'Confirmed', 'Deaths', 'Recovered', 'active_cases']].tail())\n"
   ]
  },
  {
   "cell_type": "code",
   "execution_count": 113,
   "id": "0bb1d13c",
   "metadata": {},
   "outputs": [
    {
     "name": "stdout",
     "output_type": "stream",
     "text": [
      "             Country/Region        Date  Confirmed  above_average_confirmed\n",
      "35136              Thailand  2020-07-27       3297                        0\n",
      "35137           Timor-Leste  2020-07-27         24                        0\n",
      "35138                  Togo  2020-07-27        874                        0\n",
      "35139   Trinidad and Tobago  2020-07-27        148                        0\n",
      "35140               Tunisia  2020-07-27       1455                        0\n",
      "35141                Turkey  2020-07-27     227019                        1\n",
      "35142                    US  2020-07-27    4290259                        1\n",
      "35143                Uganda  2020-07-27       1128                        0\n",
      "35144               Ukraine  2020-07-27      67096                        1\n",
      "35145  United Arab Emirates  2020-07-27      59177                        1\n",
      "35146        United Kingdom  2020-07-27     301708                        1\n",
      "35147               Uruguay  2020-07-27       1202                        0\n",
      "35148            Uzbekistan  2020-07-27      21209                        0\n",
      "35149             Venezuela  2020-07-27      15988                        0\n",
      "35150               Vietnam  2020-07-27        431                        0\n",
      "35151    West Bank and Gaza  2020-07-27      10621                        0\n",
      "35152        Western Sahara  2020-07-27         10                        0\n",
      "35153                 Yemen  2020-07-27       1691                        0\n",
      "35154                Zambia  2020-07-27       4552                        0\n",
      "35155              Zimbabwe  2020-07-27       2704                        0\n"
     ]
    }
   ],
   "source": [
    "#Create above_average_confirmed flag\n",
    "average_confirmed = full['Confirmed'].mean()\n",
    "full['above_average_confirmed'] = (full['Confirmed'] > average_confirmed).astype(int)\n",
    "print(full[['Country/Region', 'Date', 'Confirmed', 'above_average_confirmed']].tail(20))"
   ]
  },
  {
   "cell_type": "markdown",
   "id": "360458cd",
   "metadata": {},
   "source": [
    "Part 7 – SQL Simulation in Pandas"
   ]
  },
  {
   "cell_type": "code",
   "execution_count": 114,
   "id": "ee66cad8",
   "metadata": {},
   "outputs": [
    {
     "name": "stdout",
     "output_type": "stream",
     "text": [
      "            Country/Region        Date  death_rate\n",
      "35132                Syria  2020-07-27        5.93\n",
      "35139  Trinidad and Tobago  2020-07-27        5.41\n",
      "35146       United Kingdom  2020-07-27       15.19\n",
      "35152       Western Sahara  2020-07-27       10.00\n",
      "35153                Yemen  2020-07-27       28.56\n"
     ]
    }
   ],
   "source": [
    "#Select all countries with death_rate > 5.\n",
    "high_risk_countries = full[full['death_rate'] > 5]\n",
    "print(high_risk_countries[['Country/Region', 'Date', 'death_rate']].tail())"
   ]
  },
  {
   "cell_type": "code",
   "execution_count": 116,
   "id": "1c5d1342",
   "metadata": {},
   "outputs": [
    {
     "name": "stdout",
     "output_type": "stream",
     "text": [
      "      Country/Region        Date  Confirmed  death_rate\n",
      "29532             US  2020-06-27    2510259        5.02\n",
      "29345             US  2020-06-26    2467554        5.09\n",
      "29158             US  2020-06-25    2422299        5.16\n",
      "28971             US  2020-06-24    2382426        5.15\n",
      "28784             US  2020-06-23    2347491        5.19\n",
      "28597             US  2020-06-22    2312303        5.23\n",
      "28410             US  2020-06-21    2281767        5.29\n",
      "28223             US  2020-06-20    2255328        5.34\n",
      "28036             US  2020-06-19    2222579        5.39\n",
      "27849             US  2020-06-18    2191099        5.43\n",
      "27662             US  2020-06-17    2163290        5.47\n",
      "27475             US  2020-06-16    2137731        5.50\n",
      "27288             US  2020-06-15    2114026        5.52\n",
      "27101             US  2020-06-14    2094366        5.56\n",
      "26914             US  2020-06-13    2074542        5.60\n",
      "26727             US  2020-06-12    2048986        5.63\n",
      "26540             US  2020-06-11    2023656        5.66\n",
      "26353             US  2020-06-10    2000706        5.68\n",
      "26166             US  2020-06-09    1979912        5.69\n",
      "25979             US  2020-06-08    1961785        5.70\n"
     ]
    }
   ],
   "source": [
    "#Sort by confirmed cases descending.\n",
    "high_risk_countries_sorted = high_risk_countries.sort_values(by='Confirmed', ascending=False)\n",
    "print(high_risk_countries_sorted[['Country/Region', 'Date', 'Confirmed', 'death_rate']].head(20))"
   ]
  },
  {
   "cell_type": "code",
   "execution_count": 123,
   "id": "0b967f33",
   "metadata": {},
   "outputs": [
    {
     "name": "stdout",
     "output_type": "stream",
     "text": [
      "       Continent  death_rate\n",
      "0           Asia    3.295426\n",
      "1         Europe    7.621667\n",
      "2  North America    4.360585\n",
      "3          Other    2.352690\n"
     ]
    }
   ],
   "source": [
    "#Group by continent and calculate average death_rate.\n",
    "full['Continent'] = full['Country/Region'].apply(lambda x: 'Asia' if x in ['India', 'China', 'Japan'] else 'Europe' if x in ['Germany', 'France', 'Italy'] else 'North America' if x in ['USA', 'Canada'] else 'Other')\n",
    "continent_death_rate = full.groupby('Continent')['death_rate'].mean().reset_index()\n",
    "print(continent_death_rate)\n"
   ]
  },
  {
   "cell_type": "code",
   "execution_count": 127,
   "id": "c5055950",
   "metadata": {},
   "outputs": [
    {
     "data": {
      "text/html": [
       "<div>\n",
       "<style scoped>\n",
       "    .dataframe tbody tr th:only-of-type {\n",
       "        vertical-align: middle;\n",
       "    }\n",
       "\n",
       "    .dataframe tbody tr th {\n",
       "        vertical-align: top;\n",
       "    }\n",
       "\n",
       "    .dataframe thead th {\n",
       "        text-align: right;\n",
       "    }\n",
       "</style>\n",
       "<table border=\"1\" class=\"dataframe\">\n",
       "  <thead>\n",
       "    <tr style=\"text-align: right;\">\n",
       "      <th></th>\n",
       "      <th>Country/Region</th>\n",
       "      <th>Date</th>\n",
       "      <th>Confirmed</th>\n",
       "    </tr>\n",
       "  </thead>\n",
       "  <tbody>\n",
       "    <tr>\n",
       "      <th>35142</th>\n",
       "      <td>US</td>\n",
       "      <td>2020-07-27</td>\n",
       "      <td>4290259</td>\n",
       "    </tr>\n",
       "    <tr>\n",
       "      <th>34955</th>\n",
       "      <td>US</td>\n",
       "      <td>2020-07-26</td>\n",
       "      <td>4233923</td>\n",
       "    </tr>\n",
       "    <tr>\n",
       "      <th>34768</th>\n",
       "      <td>US</td>\n",
       "      <td>2020-07-25</td>\n",
       "      <td>4178970</td>\n",
       "    </tr>\n",
       "    <tr>\n",
       "      <th>34581</th>\n",
       "      <td>US</td>\n",
       "      <td>2020-07-24</td>\n",
       "      <td>4112531</td>\n",
       "    </tr>\n",
       "    <tr>\n",
       "      <th>34394</th>\n",
       "      <td>US</td>\n",
       "      <td>2020-07-23</td>\n",
       "      <td>4038816</td>\n",
       "    </tr>\n",
       "    <tr>\n",
       "      <th>34207</th>\n",
       "      <td>US</td>\n",
       "      <td>2020-07-22</td>\n",
       "      <td>3970121</td>\n",
       "    </tr>\n",
       "    <tr>\n",
       "      <th>34020</th>\n",
       "      <td>US</td>\n",
       "      <td>2020-07-21</td>\n",
       "      <td>3899211</td>\n",
       "    </tr>\n",
       "    <tr>\n",
       "      <th>33833</th>\n",
       "      <td>US</td>\n",
       "      <td>2020-07-20</td>\n",
       "      <td>3834677</td>\n",
       "    </tr>\n",
       "    <tr>\n",
       "      <th>33646</th>\n",
       "      <td>US</td>\n",
       "      <td>2020-07-19</td>\n",
       "      <td>3773260</td>\n",
       "    </tr>\n",
       "    <tr>\n",
       "      <th>33459</th>\n",
       "      <td>US</td>\n",
       "      <td>2020-07-18</td>\n",
       "      <td>3711413</td>\n",
       "    </tr>\n",
       "  </tbody>\n",
       "</table>\n",
       "</div>"
      ],
      "text/plain": [
       "      Country/Region        Date  Confirmed\n",
       "35142             US  2020-07-27    4290259\n",
       "34955             US  2020-07-26    4233923\n",
       "34768             US  2020-07-25    4178970\n",
       "34581             US  2020-07-24    4112531\n",
       "34394             US  2020-07-23    4038816\n",
       "34207             US  2020-07-22    3970121\n",
       "34020             US  2020-07-21    3899211\n",
       "33833             US  2020-07-20    3834677\n",
       "33646             US  2020-07-19    3773260\n",
       "33459             US  2020-07-18    3711413"
      ]
     },
     "execution_count": 127,
     "metadata": {},
     "output_type": "execute_result"
    }
   ],
   "source": [
    "#Sort by confirmed cases descending.\n",
    "full_sorted = full.sort_values(by='Confirmed', ascending=False)\n",
    "full_sorted[['Country/Region', 'Date', 'Confirmed']].head(10)"
   ]
  },
  {
   "cell_type": "code",
   "execution_count": 129,
   "id": "b8081f92",
   "metadata": {},
   "outputs": [
    {
     "name": "stdout",
     "output_type": "stream",
     "text": [
      "       Continent  death_rate\n",
      "0           Asia    3.295426\n",
      "1         Europe    7.621667\n",
      "2  North America    4.360585\n",
      "3          Other    2.352690\n"
     ]
    }
   ],
   "source": [
    "#Group by continent and calculate average death_rate.\n",
    "continent_death_rate = full.groupby('Continent')['death_rate'].mean().reset_index()\n",
    "print(continent_death_rate)\n"
   ]
  },
  {
   "cell_type": "code",
   "execution_count": 128,
   "id": "4b3208f2",
   "metadata": {},
   "outputs": [
    {
     "name": "stdout",
     "output_type": "stream",
     "text": [
      "      Country/Region        Date  recovery_rate\n",
      "33834         Uganda  2020-07-20         100.19\n",
      "3337       Sri Lanka  2020-02-08         100.00\n",
      "3524       Sri Lanka  2020-02-09         100.00\n",
      "3711       Sri Lanka  2020-02-10         100.00\n",
      "3898       Sri Lanka  2020-02-11         100.00\n"
     ]
    }
   ],
   "source": [
    "#Get top 5 countries by recovery rate\n",
    "top_recovery_countries = full[full['recovery_rate'] > 0].nlargest(5, 'recovery_rate')\n",
    "print(top_recovery_countries[['Country/Region', 'Date', 'recovery_rate']])"
   ]
  },
  {
   "cell_type": "code",
   "execution_count": 131,
   "id": "56146693",
   "metadata": {},
   "outputs": [
    {
     "name": "stdout",
     "output_type": "stream",
     "text": [
      "Empty DataFrame\n",
      "Columns: [Country/Region, Date, Confirmed, death_rate]\n",
      "Index: []\n"
     ]
    }
   ],
   "source": [
    "#Select countries where confirmed > 1M and death_rate < 2%.\n",
    "selected_countries = full[(full['Confirmed'] > 1000000) & (full['death_rate'] < 2)]\n",
    "print(selected_countries[['Country/Region', 'Date', 'Confirmed', 'death_rate']])"
   ]
  }
 ],
 "metadata": {
  "kernelspec": {
   "display_name": "base",
   "language": "python",
   "name": "python3"
  },
  "language_info": {
   "codemirror_mode": {
    "name": "ipython",
    "version": 3
   },
   "file_extension": ".py",
   "mimetype": "text/x-python",
   "name": "python",
   "nbconvert_exporter": "python",
   "pygments_lexer": "ipython3",
   "version": "3.13.5"
  }
 },
 "nbformat": 4,
 "nbformat_minor": 5
}
